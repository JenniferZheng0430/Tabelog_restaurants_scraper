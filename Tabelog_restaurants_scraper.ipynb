{
  "nbformat": 4,
  "nbformat_minor": 0,
  "metadata": {
    "colab": {
      "name": "Tabelog_restaurants_scraper.ipynb",
      "provenance": []
    },
    "kernelspec": {
      "name": "python3",
      "display_name": "Python 3"
    },
    "language_info": {
      "name": "python"
    }
  },
  "cells": [
    {
      "cell_type": "markdown",
      "source": [
        "# **Web Scrapped Tabelog Restaurants Data**\n",
        "\n",
        "This scraper is constructed using **BeautifulSoup** to scrape Japanese restaurants data on [Tabelog](https://tabelog.com/en/) website for [@qlub](https://qlub.io/)'s business use.\n",
        "\n",
        "@Copyright 2022 [@JenniferZheng](https://github.com/JenniferZheng0430)\n"
      ],
      "metadata": {
        "id": "Dg5tMd9VIZsm"
      }
    },
    {
      "cell_type": "markdown",
      "source": [
        "##**1. Import packages and tools**"
      ],
      "metadata": {
        "id": "oo-ms_yHJmQS"
      }
    },
    {
      "cell_type": "code",
      "execution_count": 9,
      "metadata": {
        "id": "g5u_wfxsIYhY"
      },
      "outputs": [],
      "source": [
        "from bs4 import BeautifulSoup\n",
        "import requests\n",
        "import csv\n",
        "import pandas as pd"
      ]
    },
    {
      "cell_type": "markdown",
      "source": [
        "##**2. URLs**"
      ],
      "metadata": {
        "id": "nkBfwgnkJxq5"
      }
    },
    {
      "cell_type": "markdown",
      "source": [
        "We only scrape restaurants in tokyo right now.\n",
        "If users want to scrape restaurants in other area, just replace the tokyo in RESTAURANT_URL with targeted region.\n",
        "For available regions, please check out [Tabelog](https://tabelog.com/en/) website for further information"
      ],
      "metadata": {
        "id": "VRWf53rNJ8Wp"
      }
    },
    {
      "cell_type": "code",
      "source": [
        "DOMAIN = 'https://tabelog.com/'"
      ],
      "metadata": {
        "id": "nrGfVclWL3Oo"
      },
      "execution_count": null,
      "outputs": []
    },
    {
      "cell_type": "code",
      "source": [
        "targeted_region = 'tokyo'"
      ],
      "metadata": {
        "id": "58Hrq_riJ3yg"
      },
      "execution_count": 2,
      "outputs": []
    },
    {
      "cell_type": "code",
      "source": [
        "RESTAURANT_URL = 'https://tabelog.com/en/' + targeted_region + '/rstLst/'"
      ],
      "metadata": {
        "id": "RksGnhrmL-_L"
      },
      "execution_count": null,
      "outputs": []
    },
    {
      "cell_type": "markdown",
      "source": [
        "##**3. Get restaurants links**"
      ],
      "metadata": {
        "id": "2LyKhyaBKNOn"
      }
    },
    {
      "cell_type": "markdown",
      "source": [
        "Please input how many pages of restaurants links you wish to get.\n",
        "1 page = 20 restaurant"
      ],
      "metadata": {
        "id": "9vIpvSUfMg_0"
      }
    },
    {
      "cell_type": "code",
      "source": [
        "#How many page of restaurants do you want to get?\n",
        "#1 page == 20 restaurants\n",
        "page = 50"
      ],
      "metadata": {
        "id": "YMrLyaH2Mc1D"
      },
      "execution_count": null,
      "outputs": []
    },
    {
      "cell_type": "code",
      "source": [
        "def get_url(page):\n",
        "    url_list = []\n",
        "    \n",
        "    for i in range(page):\n",
        "        url = RESTAURANT_URL + str(i) + '/'\n",
        "\n",
        "        r = requests.get(url)\n",
        "        soup = BeautifulSoup(r.content, 'html.parser')\n",
        "        \n",
        "        # <a href=\"https://tabelog.com/en/tokyo/A1317/A131712/13171774/\" class=\"list-rst__name-main js-detail-anchor\" target=\"_blank\">Yakitonasachan</a>\n",
        "        restaurants = soup.findAll(\"a\", {\"list-rst__name-main js-detail-anchor\"},href=True)\n",
        "\n",
        "        for res in restaurants:\n",
        "            url_list.append(res['href'])\n",
        "    return url_list"
      ],
      "metadata": {
        "id": "HNA4FIxiKUYY"
      },
      "execution_count": 3,
      "outputs": []
    },
    {
      "cell_type": "code",
      "source": [
        "links = get_url(page)"
      ],
      "metadata": {
        "id": "ypS3CwBzKXN0"
      },
      "execution_count": 4,
      "outputs": []
    },
    {
      "cell_type": "code",
      "source": [
        "links"
      ],
      "metadata": {
        "id": "dDGGqqarK4AG"
      },
      "execution_count": null,
      "outputs": []
    },
    {
      "cell_type": "markdown",
      "source": [
        "##**4. Get restaurant infos on each restaurant web page**"
      ],
      "metadata": {
        "id": "A0jX5EC_Kj6b"
      }
    },
    {
      "cell_type": "markdown",
      "source": [
        "The detailed info table on each website is scraped which includes information such:\n",
        "1. Restaurant Name\n",
        "2. Category\n",
        "3. TEL/reservation\n",
        "4. Addresses\n",
        "5. Transportation\n",
        "6. Operating Hours\n",
        "7. Shop holidays\n",
        "8. Budget\n",
        "9. Method of payment\n",
        "10. Table money/charge"
      ],
      "metadata": {
        "id": "yHo1iu9nLR3Y"
      }
    },
    {
      "cell_type": "code",
      "source": [
        "def scrape(url):\n",
        "    r = requests.get(url)\n",
        "    soup = BeautifulSoup(r.content, 'html.parser')\n",
        "\n",
        "    # <table class=\"c-table rd-detail-info\">\n",
        "    table = soup.find(\"table\", class_ = \"c-table rd-detail-info\")\n",
        "    rows = table.tbody.find_all('tr')\n",
        "    \n",
        "    res_info = {}\n",
        "    for row in rows:\n",
        "        res_info[row.find('th').text.strip()] = row.find('td').text.strip().replace('\\n','')\n",
        "#     print(res_info)\n",
        "    \n",
        "    return res_info"
      ],
      "metadata": {
        "id": "FAg8QjM0Kudv"
      },
      "execution_count": 6,
      "outputs": []
    },
    {
      "cell_type": "code",
      "source": [
        "restaurants_info = []\n",
        "for url in links:\n",
        "    cur_restaurant = scrape(url)\n",
        "    restaurants_info.append(cur_restaurant)"
      ],
      "metadata": {
        "id": "jhkQZm3GK-rQ"
      },
      "execution_count": 7,
      "outputs": []
    },
    {
      "cell_type": "markdown",
      "source": [
        "##**5. Convert data dictionary to dataframe and save in csv file**"
      ],
      "metadata": {
        "id": "KcSfLDwXLJop"
      }
    },
    {
      "cell_type": "code",
      "source": [
        "df = pd.DataFrame.from_dict(restaurants_info)\n",
        "df"
      ],
      "metadata": {
        "colab": {
          "base_uri": "https://localhost:8080/",
          "height": 1000
        },
        "id": "yH89vFCmLIF3",
        "outputId": "a696db0a-0d7a-449a-ba53-d1c0412b147c"
      },
      "execution_count": 10,
      "outputs": [
        {
          "output_type": "execute_result",
          "data": {
            "text/plain": [
              "                                       Restaurant name  \\\n",
              "0                     Yakitonasachan(やきとん　あさちゃん 戸越銀座店)   \n",
              "1                          sakabafutamata(酒場フタマタ 西新橋店)   \n",
              "2                                     Maggiore(マッジョーレ)   \n",
              "3                               Tanyashe(譚鴨血老火鍋 池袋東口店)   \n",
              "4                              Yakinikuinami(焼肉一七三 向山)   \n",
              "..                                                 ...   \n",
              "995                                      TAMURO(酒肴場 屯)   \n",
              "996  kanzenkoshitsukaisenshungyohananomai(完全個室・海鮮旬魚...   \n",
              "997  shintoukyouyakinikuyuushinutage(新東京焼肉 遊心 宴 日本橋...   \n",
              "998          Wine no Ruisuke(Wine no Ruisuke 渋谷ストリーム店)   \n",
              "999           taishuuizakayayoyogiyokochou(大衆居酒屋代々木横丁)   \n",
              "\n",
              "                                            Categories  \\\n",
              "0    Izakaya (Tavern), Grilled pork, Yakitori (Gril...   \n",
              "1    Izakaya (Tavern), Dumplings, Yakitori (Grilled...   \n",
              "2                           Dining bar, Italian, Pasta   \n",
              "3    Chinese hot pot / fire pot, Izakaya (Tavern), ...   \n",
              "4    Yakiniku (BBQ Beef), Horumon (BBQ Offel), Izak...   \n",
              "..                                                 ...   \n",
              "995  Seafood, Izakaya (Tavern), Nihonshu (Japanese ...   \n",
              "996  Izakaya (Tavern), Seafood, Yakitori (Grilled c...   \n",
              "997           Yakiniku (BBQ Beef), Horumon (BBQ Offel)   \n",
              "998                              Bar, Fowl, Dining bar   \n",
              "999  Izakaya (Tavern), Japanese food (other), Creat...   \n",
              "\n",
              "                                       TEL/reservation  \\\n",
              "0    050-5570-4876      (+81-50-5570-4876)    (For ...   \n",
              "1    050-5456-6727      (+81-50-5456-6727)    (For ...   \n",
              "2    03-5610-5151      (+81-3-5610-5151)    予約可※ご予約...   \n",
              "3    050-5872-8185      (+81-50-5872-8185)    (For ...   \n",
              "4    050-5890-0396      (+81-50-5890-0396)    (For ...   \n",
              "..                                                 ...   \n",
              "995  050-5594-4178      (+81-50-5594-4178)    (For ...   \n",
              "996  050-5592-7469      (+81-50-5592-7469)    (For ...   \n",
              "997  050-5457-0559      (+81-50-5457-0559)    (For ...   \n",
              "998  050-5596-1074      (+81-50-5596-1074)    (For ...   \n",
              "999  050-5593-3787      (+81-50-5593-3787)    (For ...   \n",
              "\n",
              "                                             Addresses  \\\n",
              "0    1-chome-8-1 Hiratsuka Shinagawa City Tokyo-to ...   \n",
              "1    1-chome-3-1 Nishishinbashi Minato City Tokyo-t...   \n",
              "2    Taihei Sumida City Tokyo                      ...   \n",
              "3    1-chome-26-2 Minamiikebukuro Toshima City Toky...   \n",
              "4    1-chome-13-3 Ebisuminami Shibuya City Tokyo   ...   \n",
              "..                                                 ...   \n",
              "995  2-chome-8-17 Shinbashi Minato City Tokyo-to   ...   \n",
              "996  1-chome-2-7 Kajicho Chiyoda City Tokyo-to     ...   \n",
              "997  1-chome-32-2 Nihonbashikakigaracho Chuo City T...   \n",
              "998  3-chome-21-3 Shibuya Shibuya City Tokyo-to    ...   \n",
              "999  1-chome-31-17 Yoyogi Shibuya City Tokyo-to    ...   \n",
              "\n",
              "                                        Transportation  \\\n",
              "0       東急池上線　戸越銀座駅　徒歩10秒47 meters from Togoshi Ginza.   \n",
              "1    JR新橋駅徒歩5分銀座線虎ノ門駅徒歩5分都営三田線内幸町駅A4ｂ出口直結155 meters...   \n",
              "2    ＪＲ総武線錦糸町駅北口から徒歩７分東京メトロ半蔵門線錦糸町駅４番出口から徒歩３分401 me...   \n",
              "3    池袋駅東口徒歩2分JR池袋駅東口を出て、目の前の大通りの左側の道をまっすぐ、マクドナルド・g...   \n",
              "4           JR山手線ほか　恵比寿駅　西口　徒歩3分151 meters from Ebisu.   \n",
              "..                                                 ...   \n",
              "995  JR新橋駅 日比谷口 徒歩2分地下鉄銀座線 新橋駅 8番出口 徒歩2分都営三田線 内幸町駅 ...   \n",
              "996  ＪＲ神田南口／西口：徒歩１分　銀座線神田駅：徒歩３分東京駅 方面より【ガード 高架下】　23...   \n",
              "997  東京メトロ半蔵門線　水天宮前駅 6番出口 徒歩3分東京メトロ日比谷線　人形町駅 A2番出口 ...   \n",
              "998  以下、沿線「渋谷駅」C2出口直結・東急東横線、田園都市線・東京メトロ半蔵門線、副都心線※JR...   \n",
              "999  大江戸線「代々木駅」徒歩1分JR「代々木駅」徒歩1分216 meters from Yoyogi.   \n",
              "\n",
              "                                       Operating Hours  \\\n",
              "0    月～木曜日　15時～23時(ラストオーダー 22:30)金曜日　　　15時～23時30分(ラ...   \n",
              "1                          [月～金]11:30～14:3017:00～23:00   \n",
              "2    【ランチ）　11：30～14：00（L.O)平日　ランチ専用メニュー土、日、祝　アラカルトメ...   \n",
              "3               全日11:00～23:00(Lo:22:30)Open on sundays   \n",
              "4                 [火～日]17:00～24:00(L.O)Open on sundays   \n",
              "..                                                 ...   \n",
              "995  昼【月〜金】11:30〜14:30※スープがなくなり次第終了となります。夜【月〜金】17:0...   \n",
              "996                              【ディナー】月～土　17:00～23:30   \n",
              "997  ランチ全日11:30～14:00（LO13:30）ディナー月〜土17:00～23:00（フー...   \n",
              "998  ★営業時間★【ランチ】平日　　12：00～15：00土日祝　12：00～14：00【ディナー...   \n",
              "999  【月～金】11:30～14:00(L.O.13:30)17:00～23:30(L.O.23:...   \n",
              "\n",
              "                                         Shop holidays  \\\n",
              "0                                         12/31 1/1 休業   \n",
              "1                                     土日祝 12/29~1/3 休業   \n",
              "2                                                  月曜日   \n",
              "3                                                 年中無休   \n",
              "4                                                  月曜日   \n",
              "..                                                 ...   \n",
              "995                                              日曜、祝日   \n",
              "996                                             日曜日、祝日   \n",
              "997                                                不定休   \n",
              "998                                      無休(ストリームに準ずる)   \n",
              "999  日曜は休業致します。 但し、祝日後で臨時休業する場合がございます。例：日（祝）月（振替休日）月休み   \n",
              "\n",
              "                                      Budget  \\\n",
              "0    Dinner:￥2,000～￥2,999Lunch:￥2,000～￥2,999   \n",
              "1            Dinner:￥2,000～￥2,999Lunch:～￥999   \n",
              "2    Dinner:￥4,000～￥4,999Lunch:￥1,000～￥1,999   \n",
              "3    Dinner:￥3,000～￥3,999Lunch:￥1,000～￥1,999   \n",
              "4                       Dinner:￥8,000～￥9,999   \n",
              "..                                       ...   \n",
              "995                     Dinner:￥6,000～￥7,999   \n",
              "996          Dinner:￥2,000～￥2,999Lunch:～￥999   \n",
              "997  Dinner:￥5,000～￥5,999Lunch:￥1,000～￥1,999   \n",
              "998  Dinner:￥3,000～￥3,999Lunch:￥1,000～￥1,999   \n",
              "999          Dinner:￥2,000～￥2,999Lunch:～￥999   \n",
              "\n",
              "                                     Method of payment  \\\n",
              "0    Credit Cards AcceptedElectronic money Not Acce...   \n",
              "1    Credit Cards Accepted                  (VISA、M...   \n",
              "2    Credit Cards Accepted                  (VISA、M...   \n",
              "3    Credit Cards Accepted                  (VISA、M...   \n",
              "4    Credit Cards Accepted                  (VISA、M...   \n",
              "..                                                 ...   \n",
              "995  Credit Cards Accepted                  (VISA、M...   \n",
              "996  Credit Cards Accepted                  (VISA、M...   \n",
              "997  Credit Cards Accepted                  (JCB、AM...   \n",
              "998  Credit Cards Accepted                  (VISA、M...   \n",
              "999  Credit Cards Accepted                  (VISA、M...   \n",
              "\n",
              "                                    Table money/charge Awards  \n",
              "0                                       お通し(席料込み)　220円    NaN  \n",
              "1                                 お通し：429円※コース利用の場合はなし    NaN  \n",
              "2                                                  NaN    NaN  \n",
              "3                                               チャージなし    NaN  \n",
              "4                                                  NaN    NaN  \n",
              "..                                                 ...    ...  \n",
              "995                           お通し(2種)代800円（税込）、サービス料5%    NaN  \n",
              "996  当店は、【先付 （お通し）】として、300円 を頂いております。心ばかりのものですが、お料理...    NaN  \n",
              "997                                                NaN    NaN  \n",
              "998  お通し代として￥300いただいております。当店の表示価格は全て税込み価格です。別途10％のサ...    NaN  \n",
              "999                           お通し：325円（350円税込）※コースの際は無    NaN  \n",
              "\n",
              "[1000 rows x 11 columns]"
            ],
            "text/html": [
              "\n",
              "  <div id=\"df-a52c5dae-8561-4f45-a30b-01b8ce6fa93a\">\n",
              "    <div class=\"colab-df-container\">\n",
              "      <div>\n",
              "<style scoped>\n",
              "    .dataframe tbody tr th:only-of-type {\n",
              "        vertical-align: middle;\n",
              "    }\n",
              "\n",
              "    .dataframe tbody tr th {\n",
              "        vertical-align: top;\n",
              "    }\n",
              "\n",
              "    .dataframe thead th {\n",
              "        text-align: right;\n",
              "    }\n",
              "</style>\n",
              "<table border=\"1\" class=\"dataframe\">\n",
              "  <thead>\n",
              "    <tr style=\"text-align: right;\">\n",
              "      <th></th>\n",
              "      <th>Restaurant name</th>\n",
              "      <th>Categories</th>\n",
              "      <th>TEL/reservation</th>\n",
              "      <th>Addresses</th>\n",
              "      <th>Transportation</th>\n",
              "      <th>Operating Hours</th>\n",
              "      <th>Shop holidays</th>\n",
              "      <th>Budget</th>\n",
              "      <th>Method of payment</th>\n",
              "      <th>Table money/charge</th>\n",
              "      <th>Awards</th>\n",
              "    </tr>\n",
              "  </thead>\n",
              "  <tbody>\n",
              "    <tr>\n",
              "      <th>0</th>\n",
              "      <td>Yakitonasachan(やきとん　あさちゃん 戸越銀座店)</td>\n",
              "      <td>Izakaya (Tavern), Grilled pork, Yakitori (Gril...</td>\n",
              "      <td>050-5570-4876      (+81-50-5570-4876)    (For ...</td>\n",
              "      <td>1-chome-8-1 Hiratsuka Shinagawa City Tokyo-to ...</td>\n",
              "      <td>東急池上線　戸越銀座駅　徒歩10秒47 meters from Togoshi Ginza.</td>\n",
              "      <td>月～木曜日　15時～23時(ラストオーダー 22:30)金曜日　　　15時～23時30分(ラ...</td>\n",
              "      <td>12/31 1/1 休業</td>\n",
              "      <td>Dinner:￥2,000～￥2,999Lunch:￥2,000～￥2,999</td>\n",
              "      <td>Credit Cards AcceptedElectronic money Not Acce...</td>\n",
              "      <td>お通し(席料込み)　220円</td>\n",
              "      <td>NaN</td>\n",
              "    </tr>\n",
              "    <tr>\n",
              "      <th>1</th>\n",
              "      <td>sakabafutamata(酒場フタマタ 西新橋店)</td>\n",
              "      <td>Izakaya (Tavern), Dumplings, Yakitori (Grilled...</td>\n",
              "      <td>050-5456-6727      (+81-50-5456-6727)    (For ...</td>\n",
              "      <td>1-chome-3-1 Nishishinbashi Minato City Tokyo-t...</td>\n",
              "      <td>JR新橋駅徒歩5分銀座線虎ノ門駅徒歩5分都営三田線内幸町駅A4ｂ出口直結155 meters...</td>\n",
              "      <td>[月～金]11:30～14:3017:00～23:00</td>\n",
              "      <td>土日祝 12/29~1/3 休業</td>\n",
              "      <td>Dinner:￥2,000～￥2,999Lunch:～￥999</td>\n",
              "      <td>Credit Cards Accepted                  (VISA、M...</td>\n",
              "      <td>お通し：429円※コース利用の場合はなし</td>\n",
              "      <td>NaN</td>\n",
              "    </tr>\n",
              "    <tr>\n",
              "      <th>2</th>\n",
              "      <td>Maggiore(マッジョーレ)</td>\n",
              "      <td>Dining bar, Italian, Pasta</td>\n",
              "      <td>03-5610-5151      (+81-3-5610-5151)    予約可※ご予約...</td>\n",
              "      <td>Taihei Sumida City Tokyo                      ...</td>\n",
              "      <td>ＪＲ総武線錦糸町駅北口から徒歩７分東京メトロ半蔵門線錦糸町駅４番出口から徒歩３分401 me...</td>\n",
              "      <td>【ランチ）　11：30～14：00（L.O)平日　ランチ専用メニュー土、日、祝　アラカルトメ...</td>\n",
              "      <td>月曜日</td>\n",
              "      <td>Dinner:￥4,000～￥4,999Lunch:￥1,000～￥1,999</td>\n",
              "      <td>Credit Cards Accepted                  (VISA、M...</td>\n",
              "      <td>NaN</td>\n",
              "      <td>NaN</td>\n",
              "    </tr>\n",
              "    <tr>\n",
              "      <th>3</th>\n",
              "      <td>Tanyashe(譚鴨血老火鍋 池袋東口店)</td>\n",
              "      <td>Chinese hot pot / fire pot, Izakaya (Tavern), ...</td>\n",
              "      <td>050-5872-8185      (+81-50-5872-8185)    (For ...</td>\n",
              "      <td>1-chome-26-2 Minamiikebukuro Toshima City Toky...</td>\n",
              "      <td>池袋駅東口徒歩2分JR池袋駅東口を出て、目の前の大通りの左側の道をまっすぐ、マクドナルド・g...</td>\n",
              "      <td>全日11:00～23:00(Lo:22:30)Open on sundays</td>\n",
              "      <td>年中無休</td>\n",
              "      <td>Dinner:￥3,000～￥3,999Lunch:￥1,000～￥1,999</td>\n",
              "      <td>Credit Cards Accepted                  (VISA、M...</td>\n",
              "      <td>チャージなし</td>\n",
              "      <td>NaN</td>\n",
              "    </tr>\n",
              "    <tr>\n",
              "      <th>4</th>\n",
              "      <td>Yakinikuinami(焼肉一七三 向山)</td>\n",
              "      <td>Yakiniku (BBQ Beef), Horumon (BBQ Offel), Izak...</td>\n",
              "      <td>050-5890-0396      (+81-50-5890-0396)    (For ...</td>\n",
              "      <td>1-chome-13-3 Ebisuminami Shibuya City Tokyo   ...</td>\n",
              "      <td>JR山手線ほか　恵比寿駅　西口　徒歩3分151 meters from Ebisu.</td>\n",
              "      <td>[火～日]17:00～24:00(L.O)Open on sundays</td>\n",
              "      <td>月曜日</td>\n",
              "      <td>Dinner:￥8,000～￥9,999</td>\n",
              "      <td>Credit Cards Accepted                  (VISA、M...</td>\n",
              "      <td>NaN</td>\n",
              "      <td>NaN</td>\n",
              "    </tr>\n",
              "    <tr>\n",
              "      <th>...</th>\n",
              "      <td>...</td>\n",
              "      <td>...</td>\n",
              "      <td>...</td>\n",
              "      <td>...</td>\n",
              "      <td>...</td>\n",
              "      <td>...</td>\n",
              "      <td>...</td>\n",
              "      <td>...</td>\n",
              "      <td>...</td>\n",
              "      <td>...</td>\n",
              "      <td>...</td>\n",
              "    </tr>\n",
              "    <tr>\n",
              "      <th>995</th>\n",
              "      <td>TAMURO(酒肴場 屯)</td>\n",
              "      <td>Seafood, Izakaya (Tavern), Nihonshu (Japanese ...</td>\n",
              "      <td>050-5594-4178      (+81-50-5594-4178)    (For ...</td>\n",
              "      <td>2-chome-8-17 Shinbashi Minato City Tokyo-to   ...</td>\n",
              "      <td>JR新橋駅 日比谷口 徒歩2分地下鉄銀座線 新橋駅 8番出口 徒歩2分都営三田線 内幸町駅 ...</td>\n",
              "      <td>昼【月〜金】11:30〜14:30※スープがなくなり次第終了となります。夜【月〜金】17:0...</td>\n",
              "      <td>日曜、祝日</td>\n",
              "      <td>Dinner:￥6,000～￥7,999</td>\n",
              "      <td>Credit Cards Accepted                  (VISA、M...</td>\n",
              "      <td>お通し(2種)代800円（税込）、サービス料5%</td>\n",
              "      <td>NaN</td>\n",
              "    </tr>\n",
              "    <tr>\n",
              "      <th>996</th>\n",
              "      <td>kanzenkoshitsukaisenshungyohananomai(完全個室・海鮮旬魚...</td>\n",
              "      <td>Izakaya (Tavern), Seafood, Yakitori (Grilled c...</td>\n",
              "      <td>050-5592-7469      (+81-50-5592-7469)    (For ...</td>\n",
              "      <td>1-chome-2-7 Kajicho Chiyoda City Tokyo-to     ...</td>\n",
              "      <td>ＪＲ神田南口／西口：徒歩１分　銀座線神田駅：徒歩３分東京駅 方面より【ガード 高架下】　23...</td>\n",
              "      <td>【ディナー】月～土　17:00～23:30</td>\n",
              "      <td>日曜日、祝日</td>\n",
              "      <td>Dinner:￥2,000～￥2,999Lunch:～￥999</td>\n",
              "      <td>Credit Cards Accepted                  (VISA、M...</td>\n",
              "      <td>当店は、【先付 （お通し）】として、300円 を頂いております。心ばかりのものですが、お料理...</td>\n",
              "      <td>NaN</td>\n",
              "    </tr>\n",
              "    <tr>\n",
              "      <th>997</th>\n",
              "      <td>shintoukyouyakinikuyuushinutage(新東京焼肉 遊心 宴 日本橋...</td>\n",
              "      <td>Yakiniku (BBQ Beef), Horumon (BBQ Offel)</td>\n",
              "      <td>050-5457-0559      (+81-50-5457-0559)    (For ...</td>\n",
              "      <td>1-chome-32-2 Nihonbashikakigaracho Chuo City T...</td>\n",
              "      <td>東京メトロ半蔵門線　水天宮前駅 6番出口 徒歩3分東京メトロ日比谷線　人形町駅 A2番出口 ...</td>\n",
              "      <td>ランチ全日11:30～14:00（LO13:30）ディナー月〜土17:00～23:00（フー...</td>\n",
              "      <td>不定休</td>\n",
              "      <td>Dinner:￥5,000～￥5,999Lunch:￥1,000～￥1,999</td>\n",
              "      <td>Credit Cards Accepted                  (JCB、AM...</td>\n",
              "      <td>NaN</td>\n",
              "      <td>NaN</td>\n",
              "    </tr>\n",
              "    <tr>\n",
              "      <th>998</th>\n",
              "      <td>Wine no Ruisuke(Wine no Ruisuke 渋谷ストリーム店)</td>\n",
              "      <td>Bar, Fowl, Dining bar</td>\n",
              "      <td>050-5596-1074      (+81-50-5596-1074)    (For ...</td>\n",
              "      <td>3-chome-21-3 Shibuya Shibuya City Tokyo-to    ...</td>\n",
              "      <td>以下、沿線「渋谷駅」C2出口直結・東急東横線、田園都市線・東京メトロ半蔵門線、副都心線※JR...</td>\n",
              "      <td>★営業時間★【ランチ】平日　　12：00～15：00土日祝　12：00～14：00【ディナー...</td>\n",
              "      <td>無休(ストリームに準ずる)</td>\n",
              "      <td>Dinner:￥3,000～￥3,999Lunch:￥1,000～￥1,999</td>\n",
              "      <td>Credit Cards Accepted                  (VISA、M...</td>\n",
              "      <td>お通し代として￥300いただいております。当店の表示価格は全て税込み価格です。別途10％のサ...</td>\n",
              "      <td>NaN</td>\n",
              "    </tr>\n",
              "    <tr>\n",
              "      <th>999</th>\n",
              "      <td>taishuuizakayayoyogiyokochou(大衆居酒屋代々木横丁)</td>\n",
              "      <td>Izakaya (Tavern), Japanese food (other), Creat...</td>\n",
              "      <td>050-5593-3787      (+81-50-5593-3787)    (For ...</td>\n",
              "      <td>1-chome-31-17 Yoyogi Shibuya City Tokyo-to    ...</td>\n",
              "      <td>大江戸線「代々木駅」徒歩1分JR「代々木駅」徒歩1分216 meters from Yoyogi.</td>\n",
              "      <td>【月～金】11:30～14:00(L.O.13:30)17:00～23:30(L.O.23:...</td>\n",
              "      <td>日曜は休業致します。 但し、祝日後で臨時休業する場合がございます。例：日（祝）月（振替休日）月休み</td>\n",
              "      <td>Dinner:￥2,000～￥2,999Lunch:～￥999</td>\n",
              "      <td>Credit Cards Accepted                  (VISA、M...</td>\n",
              "      <td>お通し：325円（350円税込）※コースの際は無</td>\n",
              "      <td>NaN</td>\n",
              "    </tr>\n",
              "  </tbody>\n",
              "</table>\n",
              "<p>1000 rows × 11 columns</p>\n",
              "</div>\n",
              "      <button class=\"colab-df-convert\" onclick=\"convertToInteractive('df-a52c5dae-8561-4f45-a30b-01b8ce6fa93a')\"\n",
              "              title=\"Convert this dataframe to an interactive table.\"\n",
              "              style=\"display:none;\">\n",
              "        \n",
              "  <svg xmlns=\"http://www.w3.org/2000/svg\" height=\"24px\"viewBox=\"0 0 24 24\"\n",
              "       width=\"24px\">\n",
              "    <path d=\"M0 0h24v24H0V0z\" fill=\"none\"/>\n",
              "    <path d=\"M18.56 5.44l.94 2.06.94-2.06 2.06-.94-2.06-.94-.94-2.06-.94 2.06-2.06.94zm-11 1L8.5 8.5l.94-2.06 2.06-.94-2.06-.94L8.5 2.5l-.94 2.06-2.06.94zm10 10l.94 2.06.94-2.06 2.06-.94-2.06-.94-.94-2.06-.94 2.06-2.06.94z\"/><path d=\"M17.41 7.96l-1.37-1.37c-.4-.4-.92-.59-1.43-.59-.52 0-1.04.2-1.43.59L10.3 9.45l-7.72 7.72c-.78.78-.78 2.05 0 2.83L4 21.41c.39.39.9.59 1.41.59.51 0 1.02-.2 1.41-.59l7.78-7.78 2.81-2.81c.8-.78.8-2.07 0-2.86zM5.41 20L4 18.59l7.72-7.72 1.47 1.35L5.41 20z\"/>\n",
              "  </svg>\n",
              "      </button>\n",
              "      \n",
              "  <style>\n",
              "    .colab-df-container {\n",
              "      display:flex;\n",
              "      flex-wrap:wrap;\n",
              "      gap: 12px;\n",
              "    }\n",
              "\n",
              "    .colab-df-convert {\n",
              "      background-color: #E8F0FE;\n",
              "      border: none;\n",
              "      border-radius: 50%;\n",
              "      cursor: pointer;\n",
              "      display: none;\n",
              "      fill: #1967D2;\n",
              "      height: 32px;\n",
              "      padding: 0 0 0 0;\n",
              "      width: 32px;\n",
              "    }\n",
              "\n",
              "    .colab-df-convert:hover {\n",
              "      background-color: #E2EBFA;\n",
              "      box-shadow: 0px 1px 2px rgba(60, 64, 67, 0.3), 0px 1px 3px 1px rgba(60, 64, 67, 0.15);\n",
              "      fill: #174EA6;\n",
              "    }\n",
              "\n",
              "    [theme=dark] .colab-df-convert {\n",
              "      background-color: #3B4455;\n",
              "      fill: #D2E3FC;\n",
              "    }\n",
              "\n",
              "    [theme=dark] .colab-df-convert:hover {\n",
              "      background-color: #434B5C;\n",
              "      box-shadow: 0px 1px 3px 1px rgba(0, 0, 0, 0.15);\n",
              "      filter: drop-shadow(0px 1px 2px rgba(0, 0, 0, 0.3));\n",
              "      fill: #FFFFFF;\n",
              "    }\n",
              "  </style>\n",
              "\n",
              "      <script>\n",
              "        const buttonEl =\n",
              "          document.querySelector('#df-a52c5dae-8561-4f45-a30b-01b8ce6fa93a button.colab-df-convert');\n",
              "        buttonEl.style.display =\n",
              "          google.colab.kernel.accessAllowed ? 'block' : 'none';\n",
              "\n",
              "        async function convertToInteractive(key) {\n",
              "          const element = document.querySelector('#df-a52c5dae-8561-4f45-a30b-01b8ce6fa93a');\n",
              "          const dataTable =\n",
              "            await google.colab.kernel.invokeFunction('convertToInteractive',\n",
              "                                                     [key], {});\n",
              "          if (!dataTable) return;\n",
              "\n",
              "          const docLinkHtml = 'Like what you see? Visit the ' +\n",
              "            '<a target=\"_blank\" href=https://colab.research.google.com/notebooks/data_table.ipynb>data table notebook</a>'\n",
              "            + ' to learn more about interactive tables.';\n",
              "          element.innerHTML = '';\n",
              "          dataTable['output_type'] = 'display_data';\n",
              "          await google.colab.output.renderOutput(dataTable, element);\n",
              "          const docLink = document.createElement('div');\n",
              "          docLink.innerHTML = docLinkHtml;\n",
              "          element.appendChild(docLink);\n",
              "        }\n",
              "      </script>\n",
              "    </div>\n",
              "  </div>\n",
              "  "
            ]
          },
          "metadata": {},
          "execution_count": 10
        }
      ]
    },
    {
      "cell_type": "code",
      "source": [
        "df.to_csv('restaurants_tokyo.csv')"
      ],
      "metadata": {
        "id": "hMM7VIUrL0XJ"
      },
      "execution_count": 11,
      "outputs": []
    }
  ]
}